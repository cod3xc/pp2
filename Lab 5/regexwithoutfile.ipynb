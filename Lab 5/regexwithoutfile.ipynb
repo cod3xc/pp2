{
 "cells": [
  {
   "cell_type": "markdown",
   "id": "dd3b97a6",
   "metadata": {},
   "source": [
    "## Regex"
   ]
  },
  {
   "cell_type": "code",
   "execution_count": 2,
   "id": "073d59ed",
   "metadata": {},
   "outputs": [],
   "source": [
    "import re"
   ]
  },
  {
   "cell_type": "markdown",
   "id": "41f5e69f",
   "metadata": {},
   "source": [
    "## Task 1"
   ]
  },
  {
   "cell_type": "code",
   "execution_count": 31,
   "id": "c86ba26e",
   "metadata": {},
   "outputs": [
    {
     "name": "stdout",
     "output_type": "stream",
     "text": [
      "[True, True, True, False]\n"
     ]
    }
   ],
   "source": [
    "def t1(s): \n",
    "    return bool(re.fullmatch(r'ab*', s))\n",
    "\n",
    "print([t1(x) for x in ['a','ab','abbb','ac']])"
   ]
  },
  {
   "cell_type": "markdown",
   "id": "fa97d671",
   "metadata": {},
   "source": [
    "## Task 2"
   ]
  },
  {
   "cell_type": "code",
   "execution_count": 30,
   "id": "db4b58dc",
   "metadata": {},
   "outputs": [
    {
     "name": "stdout",
     "output_type": "stream",
     "text": [
      "[True, True, False, False]\n"
     ]
    }
   ],
   "source": [
    "def t2(s):\n",
    "    return bool(re.fullmatch(r'ab{2,3}', s))\n",
    "\n",
    "print([t2(x) for x in ['abb','abbb','ab','abbbb']])"
   ]
  },
  {
   "cell_type": "markdown",
   "id": "9f4e66a6",
   "metadata": {},
   "source": [
    "## Task 3"
   ]
  },
  {
   "cell_type": "code",
   "execution_count": 29,
   "id": "e749d3be",
   "metadata": {},
   "outputs": [
    {
     "name": "stdout",
     "output_type": "stream",
     "text": [
      "['kldsa_dsksk', 'csdsaa_ccdsada', 'a_b']\n"
     ]
    }
   ],
   "source": [
    "def t3(text):\n",
    "    return re.findall(r'[a-z]+_[a-z]+', text)\n",
    "\n",
    "print(t3('kldsa_dsksk and csdsaa_ccdsada, B_A, a_b'))"
   ]
  },
  {
   "cell_type": "markdown",
   "id": "79085463",
   "metadata": {},
   "source": [
    "## Task 4"
   ]
  },
  {
   "cell_type": "code",
   "execution_count": 28,
   "id": "de9e1a2a",
   "metadata": {},
   "outputs": [
    {
     "name": "stdout",
     "output_type": "stream",
     "text": [
      "['Arslan', 'Alisher', 'Give', 'Maximum', 'Points']\n"
     ]
    }
   ],
   "source": [
    "def t4(text):\n",
    "    return re.findall(r'[A-Z][a-z]+', text)\n",
    "\n",
    "print(t4('Arslan, Alisher. Give, 5, Maximum, Points.'))"
   ]
  },
  {
   "cell_type": "markdown",
   "id": "4fedce4a",
   "metadata": {},
   "source": [
    "## Task 5"
   ]
  },
  {
   "cell_type": "code",
   "execution_count": 27,
   "id": "566cca5d",
   "metadata": {},
   "outputs": [
    {
     "name": "stdout",
     "output_type": "stream",
     "text": [
      "[True, True, False, False]\n"
     ]
    }
   ],
   "source": [
    "def t5(s):\n",
    "    return bool(re.search(r'a.*b$', s))\n",
    "\n",
    "print([t5(x) for x in ['ab','axxxb','a--b--','b']])"
   ]
  },
  {
   "cell_type": "markdown",
   "id": "40a12bf3",
   "metadata": {},
   "source": [
    "## Task 6"
   ]
  },
  {
   "cell_type": "code",
   "execution_count": 26,
   "id": "6fc458dd",
   "metadata": {},
   "outputs": [
    {
     "name": "stdout",
     "output_type": "stream",
     "text": [
      "Hello:teacher:I:can:only:accept:5points\n"
     ]
    }
   ],
   "source": [
    "def t6(text):\n",
    "    return re.sub(r'[ ,\\.]+', ':', text)\n",
    "\n",
    "print(t6('Hello, teacher. I can only accept  5points'))"
   ]
  },
  {
   "cell_type": "markdown",
   "id": "59994a30",
   "metadata": {},
   "source": [
    "## Task 7"
   ]
  },
  {
   "cell_type": "code",
   "execution_count": 25,
   "id": "101b0e2f",
   "metadata": {},
   "outputs": [
    {
     "name": "stdout",
     "output_type": "stream",
     "text": [
      "MyTaskLab5\n"
     ]
    }
   ],
   "source": [
    "def t7(s):\n",
    "    return ''.join(p.capitalize() for p in s.split('_') if p)\n",
    "\n",
    "print(t7('my_task_lab5'))"
   ]
  },
  {
   "cell_type": "markdown",
   "id": "6d1cc8ed",
   "metadata": {},
   "source": [
    "## Task 8"
   ]
  },
  {
   "cell_type": "code",
   "execution_count": 24,
   "id": "d54f5db4",
   "metadata": {},
   "outputs": [
    {
     "name": "stdout",
     "output_type": "stream",
     "text": [
      "['Working', 'Separation', 'Of', 'Uppercase', 'Letters']\n"
     ]
    }
   ],
   "source": [
    "def t8(s):\n",
    "    return re.findall(r'[A-Z][^A-Z]*', s)\n",
    "\n",
    "print(t8('WorkingSeparationOfUppercaseLetters'))"
   ]
  },
  {
   "cell_type": "markdown",
   "id": "3ad4f7b9",
   "metadata": {},
   "source": [
    "## Task 9"
   ]
  },
  {
   "cell_type": "code",
   "execution_count": 14,
   "id": "634264a2",
   "metadata": {},
   "outputs": [
    {
     "name": "stdout",
     "output_type": "stream",
     "text": [
      "I  Am  Smart  Y E A S I A M\n"
     ]
    }
   ],
   "source": [
    "def t9(s):\n",
    "    return re.sub(r'(?<!^)(?=[A-Z])', ' ', s)\n",
    "\n",
    "print(t9('I Am Smart YEASIAM'))"
   ]
  },
  {
   "cell_type": "markdown",
   "id": "abbe95b1",
   "metadata": {},
   "source": [
    "## Task 10"
   ]
  },
  {
   "cell_type": "code",
   "execution_count": 23,
   "id": "5a5454a0",
   "metadata": {},
   "outputs": [
    {
     "name": "stdout",
     "output_type": "stream",
     "text": [
      "camel_case\n",
      "snake_case\n"
     ]
    }
   ],
   "source": [
    "def t10(s):\n",
    "    s = re.sub(r'([a-z0-9])([A-Z])', r'\\1_\\2', s)\n",
    "    return s.lower()\n",
    "\n",
    "print(t10('Camel_Case'))\n",
    "print(t10('snakeCase'))"
   ]
  }
 ],
 "metadata": {
  "kernelspec": {
   "display_name": "Python 3",
   "language": "python",
   "name": "python3"
  },
  "language_info": {
   "codemirror_mode": {
    "name": "ipython",
    "version": 3
   },
   "file_extension": ".py",
   "mimetype": "text/x-python",
   "name": "python",
   "nbconvert_exporter": "python",
   "pygments_lexer": "ipython3",
   "version": "3.13.7"
  }
 },
 "nbformat": 4,
 "nbformat_minor": 5
}
