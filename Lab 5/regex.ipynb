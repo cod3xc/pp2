{
 "cells": [
  {
   "cell_type": "markdown",
   "id": "17a680d7",
   "metadata": {},
   "source": [
    "# Regex"
   ]
  },
  {
   "cell_type": "code",
   "execution_count": 2,
   "id": "ac8337b1",
   "metadata": {},
   "outputs": [],
   "source": [
    "import re\n",
    "\n",
    "with open('./a.txt','r',encoding='utf-8',errors='ignore') as f:\n",
    "    L=[line.rstrip('\\n') for line in f]"
   ]
  },
  {
   "cell_type": "markdown",
   "id": "eef1a135",
   "metadata": {},
   "source": [
    "## Task 1"
   ]
  },
  {
   "cell_type": "code",
   "execution_count": 3,
   "id": "f1b2adc8",
   "metadata": {},
   "outputs": [
    {
     "name": "stdout",
     "output_type": "stream",
     "text": [
      "[31, 37, 67, 85]\n"
     ]
    }
   ],
   "source": [
    "p=re.compile(r'ab*')\n",
    "hits=[i for i,l in enumerate(L,1) if p.search(l)]\n",
    "print(hits)"
   ]
  },
  {
   "cell_type": "markdown",
   "id": "06f3f022",
   "metadata": {},
   "source": [
    "## Task 2"
   ]
  },
  {
   "cell_type": "code",
   "execution_count": 4,
   "id": "9a611d6b",
   "metadata": {},
   "outputs": [
    {
     "name": "stdout",
     "output_type": "stream",
     "text": [
      "[]\n"
     ]
    }
   ],
   "source": [
    "p=re.compile(r'ab{2,3}')\n",
    "hits=[i for i,l in enumerate(L,1) if p.search(l)]\n",
    "print(hits)"
   ]
  },
  {
   "cell_type": "markdown",
   "id": "8ab3d744",
   "metadata": {},
   "source": [
    "## Task 3"
   ]
  },
  {
   "cell_type": "code",
   "execution_count": 4,
   "id": "2b47f367",
   "metadata": {},
   "outputs": [
    {
     "name": "stdout",
     "output_type": "stream",
     "text": [
      "[]\n"
     ]
    }
   ],
   "source": [
    "out=[]\n",
    "for i,l in enumerate(L,1):\n",
    "    m=re.findall(r'[a-z]+_[a-z]+',l)\n",
    "    if m: out.append((i,m))\n",
    "print(out)"
   ]
  },
  {
   "cell_type": "markdown",
   "id": "15ca56cc",
   "metadata": {},
   "source": [
    "## Task 4"
   ]
  },
  {
   "cell_type": "code",
   "execution_count": 5,
   "id": "6c3fdea2",
   "metadata": {},
   "outputs": [
    {
     "name": "stdout",
     "output_type": "stream",
     "text": [
      "[(25, ['Bioject']), (31, ['Vogt', 'Medical']), (37, ['Naturella']), (67, ['Carefree']), (73, ['Pro', 'Series']), (79, ['Pro', 'Series']), (85, ['Clear']), (91, ['Bio', 'World']), (97, ['Bio', 'World'])]\n"
     ]
    }
   ],
   "source": [
    "out=[]\n",
    "for i,l in enumerate(L,1):\n",
    "    m=re.findall(r'[A-Z][a-z]+',l)\n",
    "    if m: out.append((i,m))\n",
    "print(out)"
   ]
  },
  {
   "cell_type": "markdown",
   "id": "df4646b0",
   "metadata": {},
   "source": [
    "## Task 5"
   ]
  },
  {
   "cell_type": "code",
   "execution_count": 6,
   "id": "d0bfcb56",
   "metadata": {},
   "outputs": [
    {
     "name": "stdout",
     "output_type": "stream",
     "text": [
      "[]\n"
     ]
    }
   ],
   "source": [
    "p=re.compile(r'a.*b$')\n",
    "hits=[i for i,l in enumerate(L,1) if p.search(l)]\n",
    "print(hits)"
   ]
  },
  {
   "cell_type": "markdown",
   "id": "0ed61e4f",
   "metadata": {},
   "source": [
    "## Task 6"
   ]
  },
  {
   "cell_type": "code",
   "execution_count": 13,
   "id": "0f69f592",
   "metadata": {},
   "outputs": [
    {
     "name": "stdout",
     "output_type": "stream",
     "text": [
      "./a_colon.txt\n"
     ]
    }
   ],
   "source": [
    "import re\n",
    "out=[re.sub(r'[ ,.]+',':',l) for l in L]\n",
    "path='./a_colon.txt'\n",
    "open(path,'w',encoding='utf-8').write('\\n'.join(out))\n",
    "print(path)"
   ]
  },
  {
   "cell_type": "markdown",
   "id": "392b977f",
   "metadata": {},
   "source": [
    "## Task 7"
   ]
  },
  {
   "cell_type": "code",
   "execution_count": 12,
   "id": "6ac7e1f1",
   "metadata": {},
   "outputs": [
    {
     "name": "stdout",
     "output_type": "stream",
     "text": [
      "./a_camel.txt\n"
     ]
    }
   ],
   "source": [
    "def snake_to_camel(s): \n",
    "    return ''.join(p.capitalize() for p in s.split('_') if p)\n",
    "out=[]\n",
    "for l in L:\n",
    "    out.append(re.sub(r'\\b[a-z]+(?:_[a-z]+)+\\b',lambda m: snake_to_camel(m.group(0)),l))\n",
    "path='./a_camel.txt'\n",
    "open(path,'w',encoding='utf-8').write('\\n'.join(out))\n",
    "print(path)"
   ]
  },
  {
   "cell_type": "markdown",
   "id": "50dad76c",
   "metadata": {},
   "source": [
    "## Task 8"
   ]
  },
  {
   "cell_type": "code",
   "execution_count": 5,
   "id": "98329b27",
   "metadata": {},
   "outputs": [
    {
     "name": "stdout",
     "output_type": "stream",
     "text": [
      "[(2, ['E', 'U', 'R', 'O', 'P', 'H', 'A', 'R', 'M', 'A Астана']), (25, ['Bioject)']), (31, ['Vogt ', 'Medical']), (37, ['Naturella прокладки Классик макси №8']), (43, ['A', 'U', 'R', 'A Ватные диски №150']), (67, ['Carefree салфетки Алоэвоздухопроницаемые №20']), (73, ['Pro ', 'Series Шампунь яркий цвет 500мл']), (79, ['Pro ', 'Series бальзам-ополаскивательдля длител ухода за окрашеннымиволосами Яркий цвет 500мл']), (85, ['Clear шампунь Актив спорт 2в1мужской  400 мл']), (91, ['Bio ', 'World (', 'H', 'Y', 'D', 'R', 'O ', 'T', 'H', 'E', 'R', 'A', 'P', 'Y)Мицеллярная вода 5в1, 445мл']), (97, ['Bio ', 'World (', 'H', 'Y', 'D', 'R', 'O ', 'T', 'H', 'E', 'R', 'A', 'P', 'Y) Гель-муссдля умывания с гиалуроновойкислотой, 250мл']), (103, ['R', 'X]-Натрия хлорид 0,9%, 100 мл, фл.']), (109, ['R', 'X]-Дисоль р-р 400 мл, фл.']), (121, ['R', 'X]-Церукал 2%, 2 мл, №10, амп.']), (127, ['R', 'X]-Андазол 200 мг, №40, табл.']), (147, ['S', 'W', 'K00034961']), (148, ['W', 'E', 'B', 'K', 'A', 'S', 'S', 'A.', 'K', 'Z'])]\n"
     ]
    }
   ],
   "source": [
    "out=[]\n",
    "for i,l in enumerate(L,1):\n",
    "    m=re.findall(r'[A-Z][^A-Z]*',l)\n",
    "    if m: out.append((i,m))\n",
    "print(out)"
   ]
  },
  {
   "cell_type": "markdown",
   "id": "0b79be81",
   "metadata": {},
   "source": [
    "## Task 9"
   ]
  },
  {
   "cell_type": "code",
   "execution_count": null,
   "id": "44612bdb",
   "metadata": {},
   "outputs": [
    {
     "name": "stdout",
     "output_type": "stream",
     "text": [
      "./a_spaced_simple.txt\n"
     ]
    }
   ],
   "source": [
    "out=[]\n",
    "for l in L:\n",
    "    out.append(' '.join(re.sub(r'(?<!^)(?=[A-Z])',' ',w) for w in l.split()))\n",
    "path='./a_spaced.txt'\n",
    "open(path,'w',encoding='utf-8').write('\\n'.join(out))\n",
    "print(path)"
   ]
  },
  {
   "cell_type": "markdown",
   "id": "881d9d19",
   "metadata": {},
   "source": [
    "## Task 10"
   ]
  },
  {
   "cell_type": "code",
   "execution_count": null,
   "id": "9c724027",
   "metadata": {},
   "outputs": [
    {
     "name": "stdout",
     "output_type": "stream",
     "text": [
      "./a_snake_simple.txt\n"
     ]
    }
   ],
   "source": [
    "def camel_to_snake(s):\n",
    "    s=re.sub(r'([a-z0-9])([A-Z])',r'\\1_\\2',s)\n",
    "    return s.lower()\n",
    "out=[]\n",
    "for l in L:\n",
    "    out.append(' '.join(camel_to_snake(w) for w in l.split()))\n",
    "path='./a_snake.txt'\n",
    "open(path,'w',encoding='utf-8').write('\\n'.join(out))\n",
    "print(path)"
   ]
  }
 ],
 "metadata": {
  "kernelspec": {
   "display_name": "Python 3",
   "language": "python",
   "name": "python3"
  },
  "language_info": {
   "codemirror_mode": {
    "name": "ipython",
    "version": 3
   },
   "file_extension": ".py",
   "mimetype": "text/x-python",
   "name": "python",
   "nbconvert_exporter": "python",
   "pygments_lexer": "ipython3",
   "version": "3.13.7"
  }
 },
 "nbformat": 4,
 "nbformat_minor": 5
}
