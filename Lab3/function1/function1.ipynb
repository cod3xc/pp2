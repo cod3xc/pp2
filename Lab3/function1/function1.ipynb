{
 "cells": [
  {
   "cell_type": "code",
   "execution_count": null,
   "metadata": {},
   "outputs": [],
   "source": [
    "import math"
   ]
  },
  {
   "cell_type": "code",
   "execution_count": null,
   "metadata": {},
   "outputs": [],
   "source": [
    "def to_ounces(grams: int | float):\n",
    "    return f\"{grams} g. = {(28.3495231 * grams):.2f} oz.\"\n",
    "\n",
    "print(to_ounces(50))"
   ]
  },
  {
   "cell_type": "code",
   "execution_count": null,
   "metadata": {},
   "outputs": [],
   "source": [
    "def to_celcius(fahrenheit: int | float):\n",
    "    return f\"{fahrenheit} F° = {((5 / 9) * (fahrenheit - 32)):.2f} C°\"\n",
    "\n",
    "print(to_celcius(50))"
   ]
  },
  {
   "cell_type": "code",
   "execution_count": null,
   "metadata": {},
   "outputs": [],
   "source": [
    "def solve(numheads, numlegs):\n",
    "    for rabbits in range(numheads + 1): \n",
    "        chickens = numheads - rabbits\n",
    "        if 2 * chickens + 4 * rabbits == numlegs:\n",
    "            return chickens, rabbits"
   ]
  },
  {
   "cell_type": "code",
   "execution_count": null,
   "metadata": {},
   "outputs": [],
   "source": [
    "def is_prime(num):\n",
    "    if num < 2:\n",
    "        return False\n",
    "    for i in range(2, int(num**0.5)+1):\n",
    "        if num % i == 0:\n",
    "            return False\n",
    "    return True\n",
    "\n",
    "\n",
    "def filt(list):\n",
    "    for x in list:\n",
    "        if is_prime(x):\n",
    "            print(x)"
   ]
  },
  {
   "cell_type": "code",
   "execution_count": null,
   "metadata": {},
   "outputs": [],
   "source": [
    "def permutations(s, current=\"\"):\n",
    "    if len(s) == 0:\n",
    "        print(current) \n",
    "        return\n",
    "    for i in range(len(s)):\n",
    "        ch = s[i]  \n",
    "        remaining = s[:i] + s[i+1:]  \n",
    "        permutations(remaining, current + ch)  \n",
    "a = 'abcd'\n",
    "permutations(a)"
   ]
  },
  {
   "cell_type": "code",
   "execution_count": null,
   "metadata": {},
   "outputs": [],
   "source": [
    "def reverse_words(sentence):\n",
    "    reversed_sentence = ' '.join(sentence.split()[::-1])\n",
    "    return reversed_sentence"
   ]
  },
  {
   "cell_type": "code",
   "execution_count": null,
   "metadata": {},
   "outputs": [],
   "source": [
    "def has_33(nums):\n",
    "    for i in range(len(nums)-1):\n",
    "        if nums[i]==3 and nums[i+1]==3:\n",
    "            return True"
   ]
  },
  {
   "cell_type": "code",
   "execution_count": null,
   "metadata": {},
   "outputs": [],
   "source": [
    "\n",
    "def spy_game(nums):\n",
    "    for i in range(len(nums)-2):\n",
    "        if nums[i]==0 and nums[i+1]==0 and nums[i+2]==7:\n",
    "            return True"
   ]
  },
  {
   "cell_type": "code",
   "execution_count": null,
   "metadata": {},
   "outputs": [],
   "source": [
    "def volume(rad: int | float):\n",
    "    return f\"Vs (R = {rad}) = {(4/3 * 3.14 * rad**3):.2f} cubic units\"\n",
    "\n",
    "print(volume(10))"
   ]
  },
  {
   "cell_type": "code",
   "execution_count": null,
   "metadata": {},
   "outputs": [],
   "source": [
    "def new_list(_list: list[int]) -> list[int]:\n",
    "    return list(dict.fromkeys(_list))\n",
    "\n",
    "print(new_list([1, 1, 2, 3, 5, 3, 2, 4, 8]))"
   ]
  },
  {
   "cell_type": "code",
   "execution_count": null,
   "metadata": {},
   "outputs": [],
   "source": [
    "def is_palindrome(phr):\n",
    "    for x in range(len(phr)//2):\n",
    "        if phr[x]!=phr[len(phr)-x-1]:\n",
    "            return False\n",
    "    return True"
   ]
  },
  {
   "cell_type": "code",
   "execution_count": null,
   "metadata": {},
   "outputs": [],
   "source": [
    "def histogram(lst):\n",
    "    for x in lst:\n",
    "        print(\"*\" * x)  "
   ]
  },
  {
   "cell_type": "code",
   "execution_count": null,
   "metadata": {},
   "outputs": [],
   "source": [
    "\n",
    "import random\n",
    "def guessnum():\n",
    "    rand_num=random.randint(1,20)\n",
    "    name=input(\"Hello! What is your name?\")\n",
    "    a=int(input(f\"Well,{name}, I am thinking of a number between 1 and 20.\\nTake a guess.\"))\n",
    "    count=0\n",
    "    if a>rand_num:\n",
    "        a=int(input(\"Your guess is too high.\\nTake a guess\"))\n",
    "        count+=1\n",
    "    if a<rand_num:\n",
    "        a=int(input(\"Your guess is too low\\nTake a guess.\"))\n",
    "        count+=1\n",
    "    if a==rand_num:\n",
    "        print(f\"Good job,{name}! You guessed my number in {count} guesses!\")\n",
    "        return True\n",
    "guessnum()"
   ]
  }
 ],
 "metadata": {
  "kernelspec": {
   "display_name": "Python 3",
   "language": "python",
   "name": "python3"
  },
  "language_info": {
   "name": "python",
   "version": "3.10.6"
  }
 },
 "nbformat": 4,
 "nbformat_minor": 2
}
