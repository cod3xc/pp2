{
 "cells": [
  {
   "cell_type": "code",
   "execution_count": null,
   "metadata": {},
   "outputs": [],
   "source": [
    "import math\n",
    "import random"
   ]
  },
  {
   "cell_type": "markdown",
   "metadata": {},
   "source": [
    "1"
   ]
  },
  {
   "cell_type": "code",
   "execution_count": 5,
   "metadata": {},
   "outputs": [
    {
     "name": "stdout",
     "output_type": "stream",
     "text": [
      "\n"
     ]
    }
   ],
   "source": [
    "class Myclass:\n",
    "    def __init__(self):\n",
    "        self.strng = \"\"\n",
    "    def getstring(self):\n",
    "        self.strng = input()\n",
    "    def printString(self):\n",
    "        print(self.strng.upper())\n",
    "a = Myclass()\n",
    "a.getstring()\n",
    "a.printString()"
   ]
  },
  {
   "cell_type": "markdown",
   "metadata": {},
   "source": [
    "2"
   ]
  },
  {
   "cell_type": "code",
   "execution_count": null,
   "metadata": {},
   "outputs": [],
   "source": [
    "class Shape:\n",
    "    def __init__(self):\n",
    "        self._area: int = 0 \n",
    "\n",
    "    def area(self) -> int:\n",
    "        print(f\"Shape area: {self._area}\")\n",
    "\n",
    "\n",
    "class Square(Shape):\n",
    "    def __init__(self, length: int):\n",
    "        super().__init__()  \n",
    "        self._length = length\n",
    "        self._area = self._length ** 2  \n",
    "\n",
    "    def area(self) -> int:\n",
    "        print(f\"Square area: {self._area}\") \n",
    "\n",
    "if __name__ == \"__main__\":\n",
    "    shape = Shape()\n",
    "    square = Square(10)\n",
    "\n",
    "    shape.area(), square.area()"
   ]
  },
  {
   "cell_type": "markdown",
   "metadata": {},
   "source": [
    "3"
   ]
  },
  {
   "cell_type": "code",
   "execution_count": null,
   "metadata": {},
   "outputs": [],
   "source": [
    "class Rectangle(Shape):\n",
    "    def __init__(self, length: int, width: int):\n",
    "        super().__init__()  \n",
    "        self._length = length\n",
    "        self._width = width\n",
    "        self._area = self._length * self._width  \n",
    "\n",
    "    def area(self) -> int:\n",
    "        print(f\"Rectangle area: {self._area}\") \n",
    "\n",
    "if __name__ == \"__main__\":\n",
    "    rectangle = Rectangle(10, 5)\n",
    "\n",
    "    rectangle.area()"
   ]
  },
  {
   "cell_type": "markdown",
   "metadata": {},
   "source": [
    "4"
   ]
  },
  {
   "cell_type": "code",
   "execution_count": null,
   "metadata": {},
   "outputs": [],
   "source": [
    "class Point:\n",
    "    def __init__(self, x: float, y: float):\n",
    "        self.x = x\n",
    "        self.y = y\n",
    "\n",
    "    def show(self):\n",
    "        print(f\"Point({self.x}, {self.y})\")\n",
    "\n",
    "    def move(self, x: float, y: float):\n",
    "        self.x = x\n",
    "        self.y = y\n",
    "\n",
    "    def dist(self, other: 'Point') -> float:\n",
    "        return ((self.x - other.x) ** 2 + (self.y - other.y) ** 2) ** 1/2\n",
    "\n",
    "\n",
    "p1 = Point(1, 2)\n",
    "p2 = Point(4, 6)\n",
    "\n",
    "p1.show()\n",
    "p2.show()\n",
    "\n",
    "print(\"Distance:\", p1.dist(p2)) \n",
    "\n",
    "p1.move(7, 8)\n",
    "p1.show()  "
   ]
  },
  {
   "cell_type": "markdown",
   "metadata": {},
   "source": [
    "5"
   ]
  },
  {
   "cell_type": "code",
   "execution_count": null,
   "metadata": {},
   "outputs": [],
   "source": [
    "class bankacc:\n",
    "    def __init__(self,owner,balance):\n",
    "        self.owner=owner\n",
    "        self.balance=balance\n",
    "    def deposit(self,sum):\n",
    "        self.balance+=sum\n",
    "    def withdraw(self,sum):\n",
    "        if sum>self.balance or sum < 0:\n",
    "            print(\"Impossible\")\n",
    "        else:\n",
    "            self.balance-=sum\n",
    "acc=bankacc(\"Ali\",1000)\n",
    "acc.deposit(123)\n",
    "acc.withdraw(12)\n",
    "print(acc.balance)    "
   ]
  },
  {
   "cell_type": "markdown",
   "metadata": {},
   "source": [
    "6"
   ]
  },
  {
   "cell_type": "code",
   "execution_count": null,
   "metadata": {},
   "outputs": [],
   "source": [
    "def is_prime(num):\n",
    "    if num <= 1:\n",
    "        return False\n",
    "    for i in range(2, int(num**0.5) + 1):\n",
    "        if num % i == 0:\n",
    "            return False\n",
    "    return True\n",
    "\n",
    "def filter_primes(numbers):\n",
    "    return list(filter(lambda x: is_prime(x), numbers))\n",
    "\n",
    "\n",
    "numbers = [1, 2, 3, 4, 5, 6, 7, 8, 9, 10, 11, 12, 13]\n",
    "print(\"Prime numbers:\", filter_primes(numbers))"
   ]
  },
  {
   "cell_type": "code",
   "execution_count": null,
   "metadata": {},
   "outputs": [],
   "source": []
  }
 ],
 "metadata": {
  "kernelspec": {
   "display_name": "Python 3",
   "language": "python",
   "name": "python3"
  },
  "language_info": {
   "codemirror_mode": {
    "name": "ipython",
    "version": 3
   },
   "file_extension": ".py",
   "mimetype": "text/x-python",
   "name": "python",
   "nbconvert_exporter": "python",
   "pygments_lexer": "ipython3",
   "version": "3.10.6"
  }
 },
 "nbformat": 4,
 "nbformat_minor": 2
}
