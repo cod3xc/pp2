{
 "cells": [
  {
   "cell_type": "code",
   "execution_count": 1,
   "id": "a89082e0",
   "metadata": {},
   "outputs": [],
   "source": [
    "import datetime"
   ]
  },
  {
   "cell_type": "code",
   "execution_count": 2,
   "id": "1d92138f",
   "metadata": {},
   "outputs": [
    {
     "name": "stdout",
     "output_type": "stream",
     "text": [
      "2025-10-04 22:47:10.689189\n"
     ]
    }
   ],
   "source": [
    "x = datetime.datetime.today()\n",
    "print(x - datetime.timedelta(days=5))"
   ]
  },
  {
   "cell_type": "code",
   "execution_count": 3,
   "id": "96343668",
   "metadata": {},
   "outputs": [
    {
     "name": "stdout",
     "output_type": "stream",
     "text": [
      "2025-10-09 22:47:12.495282 2025-10-08 22:47:12.495282 2025-10-10 22:47:12.495282\n"
     ]
    }
   ],
   "source": [
    "x = datetime.datetime.today()\n",
    "print(x, x - datetime.timedelta(days=1), x + datetime.timedelta(days=1))\n"
   ]
  },
  {
   "cell_type": "code",
   "execution_count": 4,
   "id": "c34ab3e5",
   "metadata": {},
   "outputs": [
    {
     "name": "stdout",
     "output_type": "stream",
     "text": [
      "2025-10-09 22:47:27\n"
     ]
    }
   ],
   "source": [
    "x = datetime.datetime.today().replace(microsecond=0)\n",
    "print(x)\n"
   ]
  },
  {
   "cell_type": "code",
   "execution_count": 5,
   "id": "f6aeb20b",
   "metadata": {},
   "outputs": [
    {
     "name": "stdout",
     "output_type": "stream",
     "text": [
      "56543716.500479\n"
     ]
    }
   ],
   "source": [
    "x = datetime.datetime.now()\n",
    "y = datetime.datetime(2023, 12, 25, 12, 12, 12)\n",
    "print((x - y).total_seconds())"
   ]
  }
 ],
 "metadata": {
  "kernelspec": {
   "display_name": "Python 3",
   "language": "python",
   "name": "python3"
  },
  "language_info": {
   "codemirror_mode": {
    "name": "ipython",
    "version": 3
   },
   "file_extension": ".py",
   "mimetype": "text/x-python",
   "name": "python",
   "nbconvert_exporter": "python",
   "pygments_lexer": "ipython3",
   "version": "3.13.7"
  }
 },
 "nbformat": 4,
 "nbformat_minor": 5
}
