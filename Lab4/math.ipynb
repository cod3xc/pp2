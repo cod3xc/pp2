{
 "cells": [
  {
   "cell_type": "code",
   "execution_count": 2,
   "id": "00523be4",
   "metadata": {},
   "outputs": [],
   "source": [
    "import math"
   ]
  },
  {
   "cell_type": "code",
   "execution_count": 3,
   "id": "9a405a11",
   "metadata": {},
   "outputs": [
    {
     "name": "stdout",
     "output_type": "stream",
     "text": [
      "0.2617993877991494\n"
     ]
    }
   ],
   "source": [
    "x = int(input(\"Input degree: \"))\n",
    "print(math.radians(x))"
   ]
  },
  {
   "cell_type": "code",
   "execution_count": 4,
   "id": "db420a5e",
   "metadata": {},
   "outputs": [
    {
     "name": "stdout",
     "output_type": "stream",
     "text": [
      "45.0\n"
     ]
    }
   ],
   "source": [
    "x = int(input(\"input height: \"))\n",
    "y = int(input(\"input base: \"))\n",
    "z = int(input(\"input base2: \"))\n",
    "s = (y + z) * x / 2\n",
    "print(s)"
   ]
  },
  {
   "cell_type": "code",
   "execution_count": 6,
   "id": "366d871d",
   "metadata": {},
   "outputs": [
    {
     "name": "stdout",
     "output_type": "stream",
     "text": [
      "625.0000000000001\n"
     ]
    }
   ],
   "source": [
    "x = int(input(\"input number of sides: \"))\n",
    "y = int(input(\"input length of side: \"))\n",
    "a = (x * y**2) / (4 * math.tan(math.pi / x))\n",
    "print(a)"
   ]
  },
  {
   "cell_type": "code",
   "execution_count": 7,
   "id": "d4804079",
   "metadata": {},
   "outputs": [
    {
     "name": "stdout",
     "output_type": "stream",
     "text": [
      "60\n"
     ]
    }
   ],
   "source": [
    "x = int(input(\"input length of base: \"))\n",
    "y = int(input(\"input height: \"))\n",
    "a = (x * y)\n",
    "print(a)"
   ]
  }
 ],
 "metadata": {
  "kernelspec": {
   "display_name": "Python 3",
   "language": "python",
   "name": "python3"
  },
  "language_info": {
   "codemirror_mode": {
    "name": "ipython",
    "version": 3
   },
   "file_extension": ".py",
   "mimetype": "text/x-python",
   "name": "python",
   "nbconvert_exporter": "python",
   "pygments_lexer": "ipython3",
   "version": "3.13.7"
  }
 },
 "nbformat": 4,
 "nbformat_minor": 5
}
