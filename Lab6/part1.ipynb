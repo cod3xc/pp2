{
 "cells": [
  {
   "cell_type": "markdown",
   "id": "4a885b39",
   "metadata": {},
   "source": [
    "## Part1"
   ]
  },
  {
   "cell_type": "code",
   "execution_count": 2,
   "id": "829dad78",
   "metadata": {},
   "outputs": [
    {
     "name": "stdout",
     "output_type": "stream",
     "text": [
      "720\n"
     ]
    }
   ],
   "source": [
    "import math\n",
    "\n",
    "nums = [1, 2, 3, 4, 5, 6]\n",
    "print(math.prod(nums))"
   ]
  },
  {
   "cell_type": "code",
   "execution_count": 1,
   "id": "81eada6f",
   "metadata": {},
   "outputs": [
    {
     "name": "stdout",
     "output_type": "stream",
     "text": [
      "Uppers: 8\n",
      "Lowers: 8\n"
     ]
    }
   ],
   "source": [
    "s = input().strip()\n",
    "upp = sum(ch.isupper() for ch in s)\n",
    "low = sum(ch.islower() for ch in s)\n",
    "print(\"Uppers:\", upp)\n",
    "print(\"Lowers:\", low)\n"
   ]
  },
  {
   "cell_type": "code",
   "execution_count": 6,
   "id": "8cd8b4d7",
   "metadata": {},
   "outputs": [
    {
     "name": "stdout",
     "output_type": "stream",
     "text": [
      "Polindrome: True\n"
     ]
    }
   ],
   "source": [
    "string = \"dsadasd\"\n",
    "print(f\"Polindrome: {string == string[::-1]}\")"
   ]
  },
  {
   "cell_type": "code",
   "execution_count": 3,
   "id": "7662e81d",
   "metadata": {},
   "outputs": [
    {
     "name": "stdout",
     "output_type": "stream",
     "text": [
      "Square root of 25100 after 2123 miliseconds is 158.42979517754858\n"
     ]
    }
   ],
   "source": [
    "import time, math\n",
    "\n",
    "input, delay = 25100, 2123\n",
    "\n",
    "time.sleep(delay / 1000)\n",
    "print(f\"Square root of {input} after {delay} miliseconds is {math.sqrt(input)}\")"
   ]
  },
  {
   "cell_type": "code",
   "execution_count": 5,
   "id": "4f44a7d3",
   "metadata": {},
   "outputs": [
    {
     "name": "stdout",
     "output_type": "stream",
     "text": [
      "True\n",
      "False\n"
     ]
    }
   ],
   "source": [
    "tuple_1, tuple_2 = (True, 1, \"Str\"), (False, 1, \"Str\")\n",
    "print(all(tuple_1))\n",
    "print(all(tuple_2))"
   ]
  }
 ],
 "metadata": {
  "kernelspec": {
   "display_name": "Python 3",
   "language": "python",
   "name": "python3"
  },
  "language_info": {
   "codemirror_mode": {
    "name": "ipython",
    "version": 3
   },
   "file_extension": ".py",
   "mimetype": "text/x-python",
   "name": "python",
   "nbconvert_exporter": "python",
   "pygments_lexer": "ipython3",
   "version": "3.13.7"
  }
 },
 "nbformat": 4,
 "nbformat_minor": 5
}
