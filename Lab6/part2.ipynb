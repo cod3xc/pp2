{
 "cells": [
  {
   "cell_type": "markdown",
   "id": "032a25ec",
   "metadata": {},
   "source": [
    "# Python Directory and File Exercises (Simplest Style)"
   ]
  },
  {
   "cell_type": "code",
   "execution_count": 4,
   "id": "c496246c",
   "metadata": {},
   "outputs": [],
   "source": [
    "import os"
   ]
  },
  {
   "cell_type": "markdown",
   "id": "bc6fdc43",
   "metadata": {},
   "source": [
    "## 1) List only directories, files and all"
   ]
  },
  {
   "cell_type": "code",
   "execution_count": 28,
   "id": "a75fdb01",
   "metadata": {},
   "outputs": [
    {
     "name": "stdout",
     "output_type": "stream",
     "text": [
      "Dirs: ['tasks']\n",
      "Files: ['part2.ipynb']\n",
      "All: ['part2.ipynb', 'tasks']\n"
     ]
    }
   ],
   "source": [
    "def list(path):\n",
    "    all_items = os.listdir(path)\n",
    "    dirs = []\n",
    "    files = []\n",
    "    for i in all_items:\n",
    "        if os.path.isdir(path + \"/\" + i):\n",
    "            dirs.append(i)\n",
    "        else:\n",
    "            files.append(i)\n",
    "    print(\"Dirs:\", dirs)\n",
    "    print(\"Files:\", files)\n",
    "    print(\"All:\", all_items)\n",
    "\n",
    "list(\".\")"
   ]
  },
  {
   "cell_type": "markdown",
   "id": "9ee840cb",
   "metadata": {},
   "source": [
    "## 2) Check access (read, write, execute)"
   ]
  },
  {
   "cell_type": "code",
   "execution_count": 27,
   "id": "2556695a",
   "metadata": {},
   "outputs": [
    {
     "name": "stdout",
     "output_type": "stream",
     "text": [
      "Exists: True\n",
      "Readable: True\n",
      "Writable: True\n",
      "Executable: True\n"
     ]
    }
   ],
   "source": [
    "def check(path):\n",
    "    print(\"Exists:\", os.path.exists(path))\n",
    "    print(\"Readable:\", os.access(path, os.R_OK))\n",
    "    print(\"Writable:\", os.access(path, os.W_OK))\n",
    "    print(\"Executable:\", os.access(path, os.X_OK))\n",
    "\n",
    "check(\".\")"
   ]
  },
  {
   "cell_type": "markdown",
   "id": "9da2e94e",
   "metadata": {},
   "source": [
    "## 3) Test whether path exists and show parts"
   ]
  },
  {
   "cell_type": "code",
   "execution_count": 26,
   "id": "08e09bda",
   "metadata": {},
   "outputs": [
    {
     "name": "stdout",
     "output_type": "stream",
     "text": [
      "No such path\n"
     ]
    }
   ],
   "source": [
    "def showpath(path):\n",
    "    if os.path.exists(path):\n",
    "        print(\"Directory name:\", os.path.dirname(path))\n",
    "        print(\"File name:\", os.path.basename(path))\n",
    "    else:\n",
    "        print(\"No such path\")\n",
    "\n",
    "showpath(\"./somefile.txt\")"
   ]
  },
  {
   "cell_type": "markdown",
   "id": "95c1f683",
   "metadata": {},
   "source": [
    "## 4) Count lines in a file"
   ]
  },
  {
   "cell_type": "code",
   "execution_count": 25,
   "id": "e4849f52",
   "metadata": {},
   "outputs": [
    {
     "name": "stdout",
     "output_type": "stream",
     "text": [
      "Lines: 3\n"
     ]
    }
   ],
   "source": [
    "def countlines(path):\n",
    "    file = open(path, \"r\")\n",
    "    lines = file.readlines()\n",
    "    file.close()\n",
    "    print(\"Lines:\", len(lines))\n",
    "\n",
    "os.makedirs(\"./tasks\", exist_ok=True)\n",
    "file = open(\"./tasks/task4.txt\", \"w\")\n",
    "file.write(\"a\\nb\\nc\\n\")\n",
    "file.close()\n",
    "\n",
    "countlines(\"./tasks/task4.txt\")"
   ]
  },
  {
   "cell_type": "markdown",
   "id": "0ea99323",
   "metadata": {},
   "source": [
    "## 5) Write a list to a file"
   ]
  },
  {
   "cell_type": "code",
   "execution_count": 14,
   "id": "11be7681",
   "metadata": {},
   "outputs": [
    {
     "name": "stdout",
     "output_type": "stream",
     "text": [
      "ok\n"
     ]
    }
   ],
   "source": [
    "def writelist(path, data):\n",
    "    file = open(path, \"w\")\n",
    "    for x in data:\n",
    "        file.write(str(x) + \"\\n\")\n",
    "    file.close()\n",
    "    print(\"ok\")\n",
    "\n",
    "data = [1, \"two\", 3, \"four\"]\n",
    "writelist(\"./tasks/task5.txt\", data)"
   ]
  },
  {
   "cell_type": "markdown",
   "id": "b127081e",
   "metadata": {},
   "source": [
    "## 6) Generate 26 text files A.txt to Z.txt"
   ]
  },
  {
   "cell_type": "code",
   "execution_count": 16,
   "id": "53f2ac60",
   "metadata": {},
   "outputs": [
    {
     "name": "stdout",
     "output_type": "stream",
     "text": [
      "done\n"
     ]
    }
   ],
   "source": [
    "def make_az(folder):\n",
    "    if not os.path.exists(folder):\n",
    "        os.mkdir(folder)\n",
    "    for c in \"ABCDEFGHIJKLMNOPQRSTUVWXYZ\":\n",
    "        file = open(folder + \"/\" + c + \".txt\", \"w\")\n",
    "        file.write(c)\n",
    "        file.close()\n",
    "    print(\"done\")\n",
    "\n",
    "make_az(\"./tasks/az\")"
   ]
  },
  {
   "cell_type": "markdown",
   "id": "3427438b",
   "metadata": {},
   "source": [
    "## 7) Copy contents of a file"
   ]
  },
  {
   "cell_type": "code",
   "execution_count": 21,
   "id": "a9fe5ac6",
   "metadata": {},
   "outputs": [
    {
     "name": "stdout",
     "output_type": "stream",
     "text": [
      "copied\n"
     ]
    }
   ],
   "source": [
    "def copy(source, destination):\n",
    "    file1 = open(source, \"r\")\n",
    "    text = file1.read()\n",
    "    file1.close()\n",
    "    file2 = open(destination, \"w\")\n",
    "    file2.write(text)\n",
    "    file2.close()\n",
    "    print(\"copied\")\n",
    "\n",
    "copy(\"./tasks/file1.txt\", \"./tasks/file2.txt\")"
   ]
  },
  {
   "cell_type": "markdown",
   "id": "eb5cd3d5",
   "metadata": {},
   "source": [
    "## 8) Delete a file by path"
   ]
  },
  {
   "cell_type": "code",
   "execution_count": 22,
   "id": "9394dc57",
   "metadata": {},
   "outputs": [
    {
     "name": "stdout",
     "output_type": "stream",
     "text": [
      "no such file\n"
     ]
    }
   ],
   "source": [
    "def delete(path):\n",
    "    if os.path.exists(path):\n",
    "        if os.access(path, os.W_OK):\n",
    "            os.remove(path)\n",
    "            print(\"deleted\")\n",
    "        else:\n",
    "            print(\"no permission\")\n",
    "    else:\n",
    "        print(\"no such file\")\n",
    "\n",
    "delete(\"./tasks/deletedfile.txt\")"
   ]
  }
 ],
 "metadata": {
  "kernelspec": {
   "display_name": "Python 3",
   "language": "python",
   "name": "python3"
  },
  "language_info": {
   "codemirror_mode": {
    "name": "ipython",
    "version": 3
   },
   "file_extension": ".py",
   "mimetype": "text/x-python",
   "name": "python",
   "nbconvert_exporter": "python",
   "pygments_lexer": "ipython3",
   "version": "3.13.7"
  }
 },
 "nbformat": 4,
 "nbformat_minor": 5
}
