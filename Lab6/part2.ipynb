{
 "cells": [
  {
   "cell_type": "markdown",
   "id": "032a25ec",
   "metadata": {},
   "source": [
    "## Part2"
   ]
  },
  {
   "cell_type": "code",
   "execution_count": 2,
   "id": "c496246c",
   "metadata": {},
   "outputs": [],
   "source": [
    "import os"
   ]
  },
  {
   "cell_type": "code",
   "execution_count": 3,
   "id": "a75fdb01",
   "metadata": {},
   "outputs": [
    {
     "name": "stdout",
     "output_type": "stream",
     "text": [
      "Dirs: ['tasks']\n",
      "Files: ['part1.ipynb', 'part2.ipynb']\n",
      "All: ['part1.ipynb', 'part2.ipynb', 'tasks']\n"
     ]
    }
   ],
   "source": [
    "def list(path):\n",
    "    all = os.listdir(path)\n",
    "    directories = []\n",
    "    files = []\n",
    "    for i in all:\n",
    "        if os.path.isdir(path + \"/\" + i):\n",
    "            directories.append(i)\n",
    "        else:\n",
    "            files.append(i)\n",
    "    print(\"Dirs:\", directories)\n",
    "    print(\"Files:\", files)\n",
    "    print(\"All:\", all)\n",
    "\n",
    "list(\".\")"
   ]
  },
  {
   "cell_type": "code",
   "execution_count": 5,
   "id": "2556695a",
   "metadata": {},
   "outputs": [
    {
     "name": "stdout",
     "output_type": "stream",
     "text": [
      "Exists: True\n",
      "Readable: True\n",
      "Writable: True\n",
      "Executable: True\n"
     ]
    }
   ],
   "source": [
    "def check(path):\n",
    "    print(\"Exists:\", os.path.exists(path))\n",
    "    print(\"Readable:\", os.access(path, os.R_OK))\n",
    "    print(\"Writable:\", os.access(path, os.W_OK))\n",
    "    print(\"Executable:\", os.access(path, os.X_OK))\n",
    "\n",
    "check(\".\")"
   ]
  },
  {
   "cell_type": "code",
   "execution_count": 6,
   "id": "08e09bda",
   "metadata": {},
   "outputs": [
    {
     "name": "stdout",
     "output_type": "stream",
     "text": [
      "No such path\n"
     ]
    }
   ],
   "source": [
    "def showpath(path):\n",
    "    if os.path.exists(path):\n",
    "        print(\"Directory name:\", os.path.dirname(path))\n",
    "        print(\"File name:\", os.path.basename(path))\n",
    "    else:\n",
    "        print(\"No such path\")\n",
    "\n",
    "showpath(\"./somefile.txt\")"
   ]
  },
  {
   "cell_type": "code",
   "execution_count": 7,
   "id": "e4849f52",
   "metadata": {},
   "outputs": [
    {
     "name": "stdout",
     "output_type": "stream",
     "text": [
      "Lines: 3\n"
     ]
    }
   ],
   "source": [
    "def countlines(path):\n",
    "    file = open(path, \"r\")\n",
    "    lines = file.readlines()\n",
    "    file.close()\n",
    "    print(\"Lines:\", len(lines))\n",
    "\n",
    "os.makedirs(\"./tasks\", exist_ok=True)\n",
    "file = open(\"./tasks/task4.txt\", \"w\")\n",
    "file.write(\"a\\nb\\nc\\n\")\n",
    "file.close()\n",
    "\n",
    "countlines(\"./tasks/task4.txt\")"
   ]
  },
  {
   "cell_type": "code",
   "execution_count": 8,
   "id": "11be7681",
   "metadata": {},
   "outputs": [
    {
     "name": "stdout",
     "output_type": "stream",
     "text": [
      "ok\n"
     ]
    }
   ],
   "source": [
    "def writelist(path, data):\n",
    "    file = open(path, \"w\")\n",
    "    for x in data:\n",
    "        file.write(str(x) + \"\\n\")\n",
    "    file.close()\n",
    "    print(\"ok\")\n",
    "\n",
    "data = [1, \"two\", 3, \"four\"]\n",
    "writelist(\"./tasks/task5.txt\", data)"
   ]
  },
  {
   "cell_type": "code",
   "execution_count": 9,
   "id": "53f2ac60",
   "metadata": {},
   "outputs": [
    {
     "name": "stdout",
     "output_type": "stream",
     "text": [
      "done\n"
     ]
    }
   ],
   "source": [
    "def make_az(folder):\n",
    "    if not os.path.exists(folder):\n",
    "        os.mkdir(folder)\n",
    "    for c in \"ABCDEFGHIJKLMNOPQRSTUVWXYZ\":\n",
    "        file = open(folder + \"/\" + c + \".txt\", \"w\")\n",
    "        file.write(c)\n",
    "        file.close()\n",
    "    print(\"done\")\n",
    "\n",
    "make_az(\"./tasks/az\")"
   ]
  },
  {
   "cell_type": "code",
   "execution_count": 10,
   "id": "a9fe5ac6",
   "metadata": {},
   "outputs": [
    {
     "name": "stdout",
     "output_type": "stream",
     "text": [
      "copied\n"
     ]
    }
   ],
   "source": [
    "def copy(source, destination):\n",
    "    file1 = open(source, \"r\")\n",
    "    text = file1.read()\n",
    "    file1.close()\n",
    "    file2 = open(destination, \"w\")\n",
    "    file2.write(text)\n",
    "    file2.close()\n",
    "    print(\"copied\")\n",
    "\n",
    "copy(\"./tasks/file1.txt\", \"./tasks/file2.txt\")"
   ]
  },
  {
   "cell_type": "code",
   "execution_count": 11,
   "id": "9394dc57",
   "metadata": {},
   "outputs": [
    {
     "name": "stdout",
     "output_type": "stream",
     "text": [
      "no such file\n"
     ]
    }
   ],
   "source": [
    "def delete(path):\n",
    "    if os.path.exists(path):\n",
    "        if os.access(path, os.W_OK):\n",
    "            os.remove(path)\n",
    "            print(\"deleted\")\n",
    "        else:\n",
    "            print(\"no permission\")\n",
    "    else:\n",
    "        print(\"no such file\")\n",
    "\n",
    "delete(\"./tasks/deletedfile.txt\")"
   ]
  }
 ],
 "metadata": {
  "kernelspec": {
   "display_name": "Python 3",
   "language": "python",
   "name": "python3"
  },
  "language_info": {
   "codemirror_mode": {
    "name": "ipython",
    "version": 3
   },
   "file_extension": ".py",
   "mimetype": "text/x-python",
   "name": "python",
   "nbconvert_exporter": "python",
   "pygments_lexer": "ipython3",
   "version": "3.13.7"
  }
 },
 "nbformat": 4,
 "nbformat_minor": 5
}
